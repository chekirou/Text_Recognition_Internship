{
 "cells": [
  {
   "cell_type": "code",
   "execution_count": 62,
   "metadata": {},
   "outputs": [],
   "source": [
    "import pandas as pd\n",
    "import numpy as np\n",
    "import os\n",
    "import pkg_resources\n",
    "import nltk\n",
    "from symspellpy.symspellpy import SymSpell\n",
    "from symspellpy.symspellpy import SymSpell, Verbosity  # import the module\n",
    "\n",
    "\n",
    "def load_dictionnary():\n",
    "    with open(dict_path) as f :\n",
    "        L = f.readlines()\n",
    "    words = []\n",
    "    for i in L:\n",
    "        words.append(i.split(\" \")[0])\n",
    "    return words\n",
    "\n",
    "\n",
    "def load_lexique():\n",
    "    with open(lexique_path) as f:\n",
    "        L = f.readlines()\n",
    "    words = []\n",
    "    for i in L:\n",
    "        words.append(i.split(\"\\t\")[0])\n",
    "    return words\n",
    "\n",
    "def spell_correction(texte):\n",
    "    input_term = texte\n",
    "    # max edit distance per lookup (per single word, not per whole input string)\n",
    "    max_edit_distance_lookup = 2\n",
    "    suggestions = sym_spell.lookup_compound(input_term,\n",
    "                                            max_edit_distance_lookup)\n",
    "    # display suggestion term, edit distance, and term frequency\n",
    "    for suggestion in suggestions:\n",
    "        print(\"{}, {}, {}\".format(suggestion.term, suggestion.distance,\n",
    "                                  suggestion.count))\n",
    "    if(len(suggestions)>0):\n",
    "        return suggestions[0].term\n",
    "    else:\n",
    "        print(\"error with : \",texte)\n",
    "        return texte\n",
    "\n",
    "#print(spell_correction(\"bonjour\"))\n",
    "\n",
    "\n",
    "\n"
   ]
  },
  {
   "cell_type": "code",
   "execution_count": 5,
   "metadata": {},
   "outputs": [],
   "source": [
    "import unicodedata\n",
    "\n",
    "from bs4 import BeautifulSoup\n",
    "import sqlite3\n",
    "import requests\n",
    "import re\n",
    "import json\n",
    "import pandas as pd\n",
    "\n",
    "class scrapper:\n",
    "    @staticmethod\n",
    "    def get_arks(year):\n",
    "        url_base = \"https://gallica.bnf.fr/ark:/12148/cb34363188x/date\"+str(year)+\"0101\"\n",
    "        req = requests.get(url_base, headers={'User-Agent': 'Mozilla/5.0'})\n",
    "        p = req.content\n",
    "        L = re.findall(r\"https://gallica.bnf.fr/ark:/(\\d*/(bpt\\w*))?\",str(p))\n",
    "        S = set()\n",
    "        for i in L:\n",
    "            if(i[1] != \"\"):\n",
    "                S.add(i[1])\n",
    "        return S\n",
    "    @staticmethod\n",
    "    def get_pagination(ark):\n",
    "        \"\"\"fonction qui renvoie le nombre de pages d'un documents\"\"\"\n",
    "        #print(cpt,\"--> https://gallica.bnf.fr/\"+i+\"/f7/highres\")\n",
    "        req = requests.get(\"https://gallica.bnf.fr/services/Pagination?ark=\" + ark)\n",
    "        p = req.content\n",
    "        pages = re.search(r\"<nbVueImages>(\\d*)</nbVueImages>\", str(p))\n",
    "        return pages.groups()[0]\n",
    "    @staticmethod\n",
    "    def get_page(ark, page, number = 1):\n",
    "        \n",
    "        req = requests.get(f\"https://gallica.bnf.fr/ark:/12148/{ark}/f{page}n{number}.texteBrut\")\n",
    "        return req.content\n",
    "    @staticmethod\n",
    "    def get_document(ark, mode = \"texteBrut\"):\n",
    "        req = requests.get(\"https://gallica.bnf.fr/ark:/12148/\"+ark+\".\"+ mode)\n",
    "        return req.content\n",
    "    "
   ]
  },
  {
   "cell_type": "code",
   "execution_count": 82,
   "metadata": {},
   "outputs": [],
   "source": [
    "class Cleaner:\n",
    "    def __init__(self, directory):\n",
    "        self.directory = directory\n",
    "        self.dict_path = \"../ressources/fr-100k.txt\"\n",
    "        self.stopwords = list(nltk.corpus.stopwords.words('french'))\n",
    "        self.lexique_path = \"../ressources/Lexique383.tsv\"\n",
    "        self.words = load_dictionnary() + self.stopwords + load_lexique()\n",
    "        self.corrected = {}\n",
    "        \n",
    "        self.max_edit_distance_dictionary = 2\n",
    "        self.prefix_length = 7\n",
    "        self.sym_spell = SymSpell(max_edit_distance_dictionary, prefix_length)\n",
    "        self.dictionary_path = \"../ressources/fr-100k.txt\"\n",
    "        self.sym_spell.load_dictionary(dictionary_path, term_index=0, count_index=1)\n",
    "        pass\n",
    "    def extract(self, file):\n",
    "        soup = BeautifulSoup(file , \"html.parser\")\n",
    "        df = pd.DataFrame(columns=[\"page\", \"arrêt\", \"date\", \"juridiction\"])\n",
    "        Decision, notes, page, new_page, new_decision, count = False, False, 0, True, False,1\n",
    "        for tag in soup.body :\n",
    "            if count == 15:\n",
    "                count = 0\n",
    "                Decision = False\n",
    "            new_decision = False\n",
    "            string = tag.get_text()\n",
    "            if tag.name == \"hr\":\n",
    "                page += 1\n",
    "                notes = False\n",
    "                new_page  = True\n",
    "            if tag.name == \"p\" and string is not None and not new_page:\n",
    "                m1 = re.match(r\"(^.*?(La Cour,|L(A|À|a) COUR)(?! DE)(.+)$|^JUGEMENT\\.?\\s?$|^A\\s?R\\s?R\\s?(Ê|E)\\s?T\\.\\s?$)\", string)\n",
    "                m2 = re.match(r\"(.*?)D(u|û|ù)(.+?)(—|–|-|–|–)(.+)\", string ) \n",
    "                \n",
    "                if not Decision and m1:\n",
    "                    Decision = True\n",
    "                    text = \"\"\n",
    "                    count = 1\n",
    "                    if m1.groups()[3] != None:\n",
    "                        text = str(m1.groups()[3])\n",
    "                    First_page = page\n",
    "                    new_decision = True\n",
    "                if Decision and m2:\n",
    "                    if count < 15:\n",
    "                        if(new_decision):\n",
    "                            text =m2.groups()[0]\n",
    "                        else:\n",
    "                            text += m2.groups()[0]\n",
    "                        date = m2.groups()[2]\n",
    "                        juridiction = m2.groups()[4]\n",
    "                        df = df.append({'page' : First_page, 'arrêt' : text , \"date\": date, \"juridiction\" : juridiction},ignore_index=True)\n",
    "                    Decision = False\n",
    "                    text = ''\n",
    "                elif not notes and Decision and not new_decision:\n",
    "                    if not re.match(r\"^\\(\\d*\\).+$\", string):\n",
    "                        count +=1\n",
    "                        text+= string + \"\\n\"\n",
    "                    else:\n",
    "                        notes = True\n",
    "                else:\n",
    "                    pass\n",
    "            else :\n",
    "                new_page = False\n",
    "        return df\n",
    "    def save(self, df, ark):\n",
    "        df.to_csv(f\"{self.directory}/{ark}.csv\", encoding=\"utf-8\")\n",
    "        pass\n",
    "    def postProcess(self, df):\n",
    "        # fix mix date-juridiction\n",
    "        Rows_contains_ = df['date'].str.contains(r\"(—|–|-)\")\n",
    "        for i, row in df[Rows_contains_].iterrows():\n",
    "            m = re.search(r\"(.+?)(—|–|-|—)(.+)(—|–|-|—)?.*\", row[\"date\"] )\n",
    "            if m:\n",
    "                df.at[i, \"date\"] = m.groups()[0]\n",
    "                df.at[i, \"juridiction\"] = m.groups()[2]\n",
    "        #if still not fixed --> drop them\n",
    "        Rows_contains_ = df['date'].str.contains(r\"(—|–|-)\")\n",
    "        df = df[Rows_contains_ == False]\n",
    "        # drop date too long\n",
    "        leng = df[\"date\"].str.len()\n",
    "        df = df[leng < 25] # drop too long date\n",
    "        # drop date with no number\n",
    "        number = df[\"date\"].str.contains(\"^\\D*$\")\n",
    "        df = df[number== False] # drop too long date\n",
    "        length_decision = df.arrêt.str.len()\n",
    "        # drop decision too short\n",
    "        df = df[length_decision > 100]\n",
    "        # drop juridiction too long\n",
    "        for i , row in df.iterrows():\n",
    "            m = re.search(r\"(.+?)(—|–|-|—|,|;).*\", row[\"juridiction\"] )\n",
    "            if m:\n",
    "                df.at[i, \"juridiction\"] = m.groups()[0]\n",
    "        \n",
    "        # process the juridiction\n",
    "        \n",
    "        return df  \n",
    "    def spell_check(self, df):\n",
    "        df[\"arrêt\"] = df[\"arrêt\"].apply(self.correct)\n",
    "        return df\n",
    "    def correct(self,text):\n",
    "        ntokens= []\n",
    "        tokens = re.split('\\s|,|\\.|;|—|–|-|–|–|\\n|:|\\!|\\?',text)\n",
    "        for t in tokens:\n",
    "            if(str(t).lower().isalpha() and not str(t).lower() in self.words and not str(t)[0].isupper()):\n",
    "                if str(t) in self.corrected:\n",
    "                    nt = self.corrected[t]\n",
    "                else:\n",
    "                    nt = t\n",
    "                    suggestion = sym_spell.lookup_compound(input_term, 2)\n",
    "                    if len(suggestion)> 0 : \n",
    "                        nt = suggestion[0].term\n",
    "                    \n",
    "                    self.corrected[t] = nt\n",
    "                print(t + \" -> \" + nt)\n",
    "                ntokens.append(nt)\n",
    "\n",
    "            else:\n",
    "                ntokens.append(t)\n",
    "        return \" \".join(tokens)\n",
    "                \n",
    "  "
   ]
  },
  {
   "cell_type": "code",
   "execution_count": 126,
   "metadata": {},
   "outputs": [
    {
     "data": {
      "text/plain": [
       "{'bpt6k5791611b', 'bpt6k5791626s'}"
      ]
     },
     "execution_count": 126,
     "metadata": {},
     "output_type": "execute_result"
    }
   ],
   "source": [
    "years = scrapper.get_arks(1817)\n",
    "years"
   ]
  },
  {
   "cell_type": "code",
   "execution_count": 7,
   "metadata": {},
   "outputs": [],
   "source": [
    "test = scrapper.get_page(\"bpt6k5791626s\", 1, 50 )"
   ]
  },
  {
   "cell_type": "code",
   "execution_count": 88,
   "metadata": {},
   "outputs": [],
   "source": [
    "c = Cleaner(\"test\")\n",
    "#file = scrapper.get_document(\"bpt6k5548364r\")\n"
   ]
  },
  {
   "cell_type": "code",
   "execution_count": 89,
   "metadata": {
    "scrolled": false
   },
   "outputs": [
    {
     "data": {
      "text/html": [
       "<div>\n",
       "<style scoped>\n",
       "    .dataframe tbody tr th:only-of-type {\n",
       "        vertical-align: middle;\n",
       "    }\n",
       "\n",
       "    .dataframe tbody tr th {\n",
       "        vertical-align: top;\n",
       "    }\n",
       "\n",
       "    .dataframe thead th {\n",
       "        text-align: right;\n",
       "    }\n",
       "</style>\n",
       "<table border=\"1\" class=\"dataframe\">\n",
       "  <thead>\n",
       "    <tr style=\"text-align: right;\">\n",
       "      <th></th>\n",
       "      <th>page</th>\n",
       "      <th>arrêt</th>\n",
       "      <th>date</th>\n",
       "      <th>juridiction</th>\n",
       "    </tr>\n",
       "  </thead>\n",
       "  <tbody>\n",
       "    <tr>\n",
       "      <td>0</td>\n",
       "      <td>6</td>\n",
       "      <td>, -Faisant droit sur l'appel interjeté par Bi...</td>\n",
       "      <td>n mars 1816.</td>\n",
       "      <td>Cour royale de Paris. - Prés. M. Séguier - Co...</td>\n",
       "    </tr>\n",
       "    <tr>\n",
       "      <td>1</td>\n",
       "      <td>8</td>\n",
       "      <td>LA COUR, - Considérant qu'au 15 ventôse an 6, ...</td>\n",
       "      <td>6</td>\n",
       "      <td>avril 1816.- Cour royale de Paris.</td>\n",
       "    </tr>\n",
       "    <tr>\n",
       "      <td>2</td>\n",
       "      <td>9</td>\n",
       "      <td>LA COUR , - Statuant sur le renvoi ordonné par...</td>\n",
       "      <td>18 mars 1816.</td>\n",
       "      <td>Cour royale de Paris. - Plaid. MM. Gauthier e...</td>\n",
       "    </tr>\n",
       "    <tr>\n",
       "      <td>3</td>\n",
       "      <td>10</td>\n",
       "      <td>LA COUR , - Considérant que d'après l'art. 559...</td>\n",
       "      <td>n décembre 1815.</td>\n",
       "      <td>Cour de Colmar.</td>\n",
       "    </tr>\n",
       "    <tr>\n",
       "      <td>4</td>\n",
       "      <td>14</td>\n",
       "      <td>LA COUR, - Adoptant les motifs des premiers ju...</td>\n",
       "      <td>II janvier 1816.</td>\n",
       "      <td>Cour royale de Paris. - V. chambre.-Présid. M...</td>\n",
       "    </tr>\n",
       "    <tr>\n",
       "      <td>5</td>\n",
       "      <td>15</td>\n",
       "      <td>» LA COUR, - Joint l'appel principal interjeté...</td>\n",
       "      <td>11 mai 1816.</td>\n",
       "      <td>Cour royale de Paris.</td>\n",
       "    </tr>\n",
       "    <tr>\n",
       "      <td>6</td>\n",
       "      <td>20</td>\n",
       "      <td>LA COUR, - Attendu que le délai de trois jours...</td>\n",
       "      <td>21 mars 1815.</td>\n",
       "      <td>Cour royale d'Angers.</td>\n",
       "    </tr>\n",
       "    <tr>\n",
       "      <td>7</td>\n",
       "      <td>45</td>\n",
       "      <td>LA COUR, - Attendu que la fin de non-recevoir ...</td>\n",
       "      <td>22 avril 1815.</td>\n",
       "      <td>Cour royale de Colmar.</td>\n",
       "    </tr>\n",
       "    <tr>\n",
       "      <td>8</td>\n",
       "      <td>47</td>\n",
       "      <td>LA COUR, - Considérant que l'adjudication du d...</td>\n",
       "      <td>16 mars 1816</td>\n",
       "      <td>Cour royale de Paris. - 3e. chambre Prés. M. ...</td>\n",
       "    </tr>\n",
       "    <tr>\n",
       "      <td>9</td>\n",
       "      <td>48</td>\n",
       "      <td>LA COUR, - Adoptant les motifs des premiers ju...</td>\n",
       "      <td>2 mai 1816.</td>\n",
       "      <td>Cour royale de Paris.</td>\n",
       "    </tr>\n",
       "  </tbody>\n",
       "</table>\n",
       "</div>"
      ],
      "text/plain": [
       "  page                                              arrêt                date  \\\n",
       "0    6   , -Faisant droit sur l'appel interjeté par Bi...       n mars 1816.    \n",
       "1    8  LA COUR, - Considérant qu'au 15 ventôse an 6, ...                   6   \n",
       "2    9  LA COUR , - Statuant sur le renvoi ordonné par...      18 mars 1816.    \n",
       "3   10  LA COUR , - Considérant que d'après l'art. 559...   n décembre 1815.    \n",
       "4   14  LA COUR, - Adoptant les motifs des premiers ju...   II janvier 1816.    \n",
       "5   15  » LA COUR, - Joint l'appel principal interjeté...       11 mai 1816.    \n",
       "6   20  LA COUR, - Attendu que le délai de trois jours...      21 mars 1815.    \n",
       "7   45  LA COUR, - Attendu que la fin de non-recevoir ...     22 avril 1815.    \n",
       "8   47  LA COUR, - Considérant que l'adjudication du d...       16 mars 1816    \n",
       "9   48  LA COUR, - Adoptant les motifs des premiers ju...         2 mai 1816.   \n",
       "\n",
       "                                         juridiction  \n",
       "0   Cour royale de Paris. - Prés. M. Séguier - Co...  \n",
       "1                avril 1816.- Cour royale de Paris.   \n",
       "2   Cour royale de Paris. - Plaid. MM. Gauthier e...  \n",
       "3                                   Cour de Colmar.   \n",
       "4   Cour royale de Paris. - V. chambre.-Présid. M...  \n",
       "5                             Cour royale de Paris.   \n",
       "6                             Cour royale d'Angers.   \n",
       "7                            Cour royale de Colmar.   \n",
       "8   Cour royale de Paris. - 3e. chambre Prés. M. ...  \n",
       "9                             Cour royale de Paris.   "
      ]
     },
     "execution_count": 89,
     "metadata": {},
     "output_type": "execute_result"
    }
   ],
   "source": [
    "c = Cleaner(\"test\")\n",
    "df_test = c.extract(test)\n",
    "df_test"
   ]
  },
  {
   "cell_type": "code",
   "execution_count": 90,
   "metadata": {},
   "outputs": [
    {
     "name": "stderr",
     "output_type": "stream",
     "text": [
      "/home/chekirou/anaconda3/lib/python3.7/site-packages/pandas/core/strings.py:1843: UserWarning: This pattern has match groups. To actually get the groups, use str.extract.\n",
      "  return func(self, *args, **kwargs)\n"
     ]
    }
   ],
   "source": [
    "df_test = c.postProcess(df_test)"
   ]
  },
  {
   "cell_type": "code",
   "execution_count": 96,
   "metadata": {
    "scrolled": false
   },
   "outputs": [
    {
     "data": {
      "text/html": [
       "<div>\n",
       "<style scoped>\n",
       "    .dataframe tbody tr th:only-of-type {\n",
       "        vertical-align: middle;\n",
       "    }\n",
       "\n",
       "    .dataframe tbody tr th {\n",
       "        vertical-align: top;\n",
       "    }\n",
       "\n",
       "    .dataframe thead th {\n",
       "        text-align: right;\n",
       "    }\n",
       "</style>\n",
       "<table border=\"1\" class=\"dataframe\">\n",
       "  <thead>\n",
       "    <tr style=\"text-align: right;\">\n",
       "      <th></th>\n",
       "      <th>page</th>\n",
       "      <th>arrêt</th>\n",
       "      <th>date</th>\n",
       "      <th>juridiction</th>\n",
       "    </tr>\n",
       "  </thead>\n",
       "  <tbody>\n",
       "    <tr>\n",
       "      <td>0</td>\n",
       "      <td>6</td>\n",
       "      <td>, -Faisant droit sur l'appel interjeté par Bi...</td>\n",
       "      <td>n mars 1816.</td>\n",
       "      <td>Cour royale de Paris.</td>\n",
       "    </tr>\n",
       "    <tr>\n",
       "      <td>1</td>\n",
       "      <td>8</td>\n",
       "      <td>LA COUR, - Considérant qu'au 15 ventôse an 6, ...</td>\n",
       "      <td>6</td>\n",
       "      <td>avril 1816.</td>\n",
       "    </tr>\n",
       "    <tr>\n",
       "      <td>2</td>\n",
       "      <td>9</td>\n",
       "      <td>LA COUR , - Statuant sur le renvoi ordonné par...</td>\n",
       "      <td>18 mars 1816.</td>\n",
       "      <td>Cour royale de Paris.</td>\n",
       "    </tr>\n",
       "    <tr>\n",
       "      <td>3</td>\n",
       "      <td>10</td>\n",
       "      <td>LA COUR , - Considérant que d'après l'art. 559...</td>\n",
       "      <td>n décembre 1815.</td>\n",
       "      <td>Cour de Colmar.</td>\n",
       "    </tr>\n",
       "    <tr>\n",
       "      <td>4</td>\n",
       "      <td>14</td>\n",
       "      <td>LA COUR, - Adoptant les motifs des premiers ju...</td>\n",
       "      <td>II janvier 1816.</td>\n",
       "      <td>Cour royale de Paris.</td>\n",
       "    </tr>\n",
       "    <tr>\n",
       "      <td>5</td>\n",
       "      <td>15</td>\n",
       "      <td>» LA COUR, - Joint l'appel principal interjeté...</td>\n",
       "      <td>11 mai 1816.</td>\n",
       "      <td>Cour royale de Paris.</td>\n",
       "    </tr>\n",
       "    <tr>\n",
       "      <td>6</td>\n",
       "      <td>20</td>\n",
       "      <td>LA COUR, - Attendu que le délai de trois jours...</td>\n",
       "      <td>21 mars 1815.</td>\n",
       "      <td>Cour royale d'Angers.</td>\n",
       "    </tr>\n",
       "    <tr>\n",
       "      <td>7</td>\n",
       "      <td>45</td>\n",
       "      <td>LA COUR, - Attendu que la fin de non-recevoir ...</td>\n",
       "      <td>22 avril 1815.</td>\n",
       "      <td>Cour royale de Colmar.</td>\n",
       "    </tr>\n",
       "    <tr>\n",
       "      <td>8</td>\n",
       "      <td>47</td>\n",
       "      <td>LA COUR, - Considérant que l'adjudication du d...</td>\n",
       "      <td>16 mars 1816</td>\n",
       "      <td>Cour royale de Paris.</td>\n",
       "    </tr>\n",
       "    <tr>\n",
       "      <td>9</td>\n",
       "      <td>48</td>\n",
       "      <td>LA COUR, - Adoptant les motifs des premiers ju...</td>\n",
       "      <td>2 mai 1816.</td>\n",
       "      <td>Cour royale de Paris.</td>\n",
       "    </tr>\n",
       "  </tbody>\n",
       "</table>\n",
       "</div>"
      ],
      "text/plain": [
       "  page                                              arrêt                date  \\\n",
       "0    6   , -Faisant droit sur l'appel interjeté par Bi...       n mars 1816.    \n",
       "1    8  LA COUR, - Considérant qu'au 15 ventôse an 6, ...                   6   \n",
       "2    9  LA COUR , - Statuant sur le renvoi ordonné par...      18 mars 1816.    \n",
       "3   10  LA COUR , - Considérant que d'après l'art. 559...   n décembre 1815.    \n",
       "4   14  LA COUR, - Adoptant les motifs des premiers ju...   II janvier 1816.    \n",
       "5   15  » LA COUR, - Joint l'appel principal interjeté...       11 mai 1816.    \n",
       "6   20  LA COUR, - Attendu que le délai de trois jours...      21 mars 1815.    \n",
       "7   45  LA COUR, - Attendu que la fin de non-recevoir ...     22 avril 1815.    \n",
       "8   47  LA COUR, - Considérant que l'adjudication du d...       16 mars 1816    \n",
       "9   48  LA COUR, - Adoptant les motifs des premiers ju...         2 mai 1816.   \n",
       "\n",
       "                juridiction  \n",
       "0    Cour royale de Paris.   \n",
       "1               avril 1816.  \n",
       "2    Cour royale de Paris.   \n",
       "3          Cour de Colmar.   \n",
       "4    Cour royale de Paris.   \n",
       "5    Cour royale de Paris.   \n",
       "6    Cour royale d'Angers.   \n",
       "7   Cour royale de Colmar.   \n",
       "8    Cour royale de Paris.   \n",
       "9    Cour royale de Paris.   "
      ]
     },
     "execution_count": 96,
     "metadata": {},
     "output_type": "execute_result"
    }
   ],
   "source": [
    "df_test"
   ]
  },
  {
   "cell_type": "code",
   "execution_count": 92,
   "metadata": {},
   "outputs": [],
   "source": [
    "text = df_test.loc[1].arrêt"
   ]
  },
  {
   "cell_type": "code",
   "execution_count": 93,
   "metadata": {},
   "outputs": [
    {
     "data": {
      "text/plain": [
       "\"LA COUR, - Considérant qu'au 15 ventôse an 6, ?époque de la distribution du prix de la maison rue Cérutti, vendue par Larue-Sauviac, débiteur commun , la créance de la veuve et des héritiers Aucoutaux n'existait pas , son titre n'étant qu'à la date postérieure du y prairial an 6 ; \\nConsidérant que les héritiers Lavit et Morin , créanciers opposans au sceau , ont pu sans fraude, renoncer au profit de Larue-Sauviac , leur débiteur, au droit d'être payés l'un et l'autre de leurs créances sur le prix \\nde la maison vendue à Charles Est ; - que Morin, notamment , aurait pu renoncera exercer son hypothèque générale , pour s'en tenir à son privilège de vendeur sur la maison de Viroflay;-qu'en recevant, au contraire sa créance de 10,188 fr. sur le prix de la maison rue Cérutti , il rendait libre la maison de Viroflay pour l'exercice de l'hypothèque des héritiers Lavit en vertu du contrat de rachat de la maison rue Cérutti, du 9 vendémiaire \\nvendémiaire 6; - qu'en cet état et avec le concours du débiteur commun, Morin a pu céder son privilège aux héritiers Lavit, en échange des droits qu'ils renonçaient, à exercer sur la maison rue Cérutti, et pour lesquels ils pouvaient prétendre à la priorité sur Morin lui-même créancier à la date du 5 fructidor an 5 postérieure à \\ncelle du décès de Lavit père, arrive le 2 floréal précédent : par lequel décès l'acte de vente sous signature privée de la maison Cérutti, du 16 fructidor an 4 avait acquis une existence certaine ; que le 15 ventôse an 6 , les parties n'étaient pas obligées de traiter dans l'intérêt des créanciers à venir; qu'il suffit qu'il soit constant que la dette de Larue-Sauviac n'ait pas été éteinte , pour que le privilège légalement conservé ait tout son effet. \\n\""
      ]
     },
     "execution_count": 93,
     "metadata": {},
     "output_type": "execute_result"
    }
   ],
   "source": [
    "text"
   ]
  },
  {
   "cell_type": "code",
   "execution_count": 97,
   "metadata": {},
   "outputs": [
    {
     "name": "stdout",
     "output_type": "stream",
     "text": [
      "interjeta, 1, 8635\n",
      "interjeté -> interjeta\n",
      "afin de, 1, 67800\n",
      "afinde -> afin de\n",
      "par, 1, 634490311\n",
      "ar -> par\n",
      "ré rages, 1, 0\n",
      "rérages -> ré rages\n",
      "opposant, 1, 540147\n",
      "opposans -> opposant\n",
      "interjeté -> interjeta\n",
      "jugement, 1, 9670279\n",
      "jugemens -> jugement\n",
      "pl cités, 1, 3\n",
      "placités -> pl cités\n",
      "changement, 1, 6908588\n",
      "changemens -> changement\n",
      "placités -> pl cités\n",
      "interjeté -> interjeta\n",
      "interjeté -> interjeta\n",
      "assuré les, 3, 5695\n",
      "assujéties -> assuré les\n",
      "appelons, 1, 800698\n",
      "appelans -> appelons\n",
      "instrumentaires, 1, 8673\n",
      "instrumenlaires -> instrumentaires\n",
      "rejette, 2, 911178\n",
      "rejelée -> rejette\n",
      "originaire, 1, 1221137\n",
      "originaiie -> originaire\n",
      "domaine, 1, 12582308\n",
      "demaine -> domaine\n",
      "privilège, 1, 2194637\n",
      "privilége -> privilège\n"
     ]
    }
   ],
   "source": [
    "df_test[\"arrêt\"] = df_test[\"arrêt\"].apply(c.spell_check)"
   ]
  },
  {
   "cell_type": "code",
   "execution_count": 98,
   "metadata": {},
   "outputs": [
    {
     "data": {
      "text/plain": [
       "\"LA COUR    Considérant que l'adjudication du demaine de Sennevoy  faite à Méat le 16 mai 1812   a été transcrite le 29 du même mois   que  lors de cette transcription  il n'existait  de même qu'il n'est survenu  dans le délai de quinzaine qui l'a suivie  aucuns inscription de la part de Richardot et consorts  pour conserver   soit leur privilége  soit une hypothèque quelconque   met l'appellation au néant   ordonne que ce dont est appel sortira effet   condamne les appelai » en l'amende et aux dépens   \""
      ]
     },
     "execution_count": 98,
     "metadata": {},
     "output_type": "execute_result"
    }
   ],
   "source": [
    "df_test.loc[8].arrêt"
   ]
  },
  {
   "cell_type": "code",
   "execution_count": 87,
   "metadata": {},
   "outputs": [
    {
     "data": {
      "text/plain": [
       "{'interjeté': 'interjeta',\n",
       " 'afinde': 'afin de',\n",
       " 'ar': 'par',\n",
       " 'rérages': 'ré rages',\n",
       " 'opposans': 'opposant',\n",
       " 'jugemens': 'jugement',\n",
       " 'placités': 'pl cités',\n",
       " 'changemens': 'changement',\n",
       " 'assujéties': 'assuré les',\n",
       " 'appelans': 'appelons',\n",
       " 'instrumenlaires': 'instrumentaires',\n",
       " 'rejelée': 'rejette',\n",
       " 'originaiie': 'originaire',\n",
       " 'demaine': 'domaine',\n",
       " 'privilége': 'privilège'}"
      ]
     },
     "execution_count": 87,
     "metadata": {},
     "output_type": "execute_result"
    }
   ],
   "source": [
    "c.corrected"
   ]
  },
  {
   "cell_type": "code",
   "execution_count": 95,
   "metadata": {},
   "outputs": [
    {
     "name": "stdout",
     "output_type": "stream",
     "text": [
      "melodrame -> mélodrame\n",
      "juge, 1, 9378326\n",
      "juje -> juge\n"
     ]
    },
    {
     "data": {
      "text/plain": [
       "'melodrame et juje'"
      ]
     },
     "execution_count": 95,
     "metadata": {},
     "output_type": "execute_result"
    }
   ],
   "source": [
    "c.spell_check(\"melodrame et juje\")"
   ]
  },
  {
   "cell_type": "code",
   "execution_count": null,
   "metadata": {},
   "outputs": [],
   "source": []
  }
 ],
 "metadata": {
  "kernelspec": {
   "display_name": "Python 3",
   "language": "python",
   "name": "python3"
  },
  "language_info": {
   "codemirror_mode": {
    "name": "ipython",
    "version": 3
   },
   "file_extension": ".py",
   "mimetype": "text/x-python",
   "name": "python",
   "nbconvert_exporter": "python",
   "pygments_lexer": "ipython3",
   "version": "3.7.4"
  }
 },
 "nbformat": 4,
 "nbformat_minor": 2
}
